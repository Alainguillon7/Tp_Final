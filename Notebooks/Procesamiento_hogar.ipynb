{
 "cells": [
  {
   "cell_type": "code",
   "execution_count": 12,
   "id": "db0c7ab6",
   "metadata": {},
   "outputs": [],
   "source": [
    "import sys\n",
    "import os\n",
    "import csv\n",
    "from pathlib import Path"
   ]
  },
  {
   "cell_type": "code",
   "execution_count": 17,
   "id": "14c6e2db",
   "metadata": {},
   "outputs": [
    {
     "name": "stdout",
     "output_type": "stream",
     "text": [
      "..\\DATA\n"
     ]
    }
   ],
   "source": [
    "sys.path.append(os.path.abspath(\"../src\"))\n",
    "from crear_dataset import crear_dataset_hogar\n",
    "carpeta = Path(\"..\") / \"DATA\"\n",
    "print(carpeta)\n",
    "crear_dataset_hogar(carpeta)\n"
   ]
  },
  {
   "cell_type": "code",
   "execution_count": 20,
   "id": "97e5d580",
   "metadata": {},
   "outputs": [],
   "source": [
    "# Punto 7\n",
    "\n",
    "sys.path.append(os.path.abspath(\"../src\"))\n",
    "\n",
    "from functions_A7 import agregar_columna\n",
    "\n",
    "path_file = \"../dataset_hogar.txt\"\n",
    "\n",
    "#obtengo del archivo todos los datos y los paso a una lista para posteriormente transformarlo\n",
    "with open(path_file, mode='r', encoding='utf-8') as file:\n",
    "    datos = list(csv.reader(file,delimiter=';'))    \n",
    "    agregar_columna(datos)\n",
    "\n",
    "#escribo en el archivo la columna con sus valores\n",
    "with open(path_file, mode='w', newline='', encoding='utf-8') as file_out:\n",
    "    datosEscritura = csv.writer(file_out, delimiter=';')    \n",
    "    for row in datos:\n",
    "        datosEscritura.writerow(row)"
   ]
  },
  {
   "cell_type": "code",
   "execution_count": null,
   "id": "b70e1895",
   "metadata": {},
   "outputs": [
    {
     "ename": "FileNotFoundError",
     "evalue": "[Errno 2] No such file or directory: '../dataset_hogar'",
     "output_type": "error",
     "traceback": [
      "\u001b[31m---------------------------------------------------------------------------\u001b[39m",
      "\u001b[31mFileNotFoundError\u001b[39m                         Traceback (most recent call last)",
      "\u001b[36mCell\u001b[39m\u001b[36m \u001b[39m\u001b[32mIn[21]\u001b[39m\u001b[32m, line 11\u001b[39m\n\u001b[32m      7\u001b[39m path_file = \u001b[33m\"\u001b[39m\u001b[33m../dataset_hogar\u001b[39m\u001b[33m\"\u001b[39m   \u001b[38;5;66;03m#ruta del archivo a modificar\u001b[39;00m\n\u001b[32m     10\u001b[39m \u001b[38;5;66;03m#obtengo el archivo y lo paso a una lista para posteriormente transformarlo\u001b[39;00m\n\u001b[32m---> \u001b[39m\u001b[32m11\u001b[39m \u001b[38;5;28;01mwith\u001b[39;00m \u001b[38;5;28;43mopen\u001b[39;49m\u001b[43m(\u001b[49m\u001b[43mpath_file\u001b[49m\u001b[43m,\u001b[49m\u001b[43m \u001b[49m\u001b[43mmode\u001b[49m\u001b[43m=\u001b[49m\u001b[33;43m'\u001b[39;49m\u001b[33;43mr\u001b[39;49m\u001b[33;43m'\u001b[39;49m\u001b[43m,\u001b[49m\u001b[43m \u001b[49m\u001b[43mencoding\u001b[49m\u001b[43m=\u001b[49m\u001b[33;43m'\u001b[39;49m\u001b[33;43mutf-8\u001b[39;49m\u001b[33;43m'\u001b[39;49m\u001b[43m)\u001b[49m \u001b[38;5;28;01mas\u001b[39;00m file:     \n\u001b[32m     12\u001b[39m     datos = \u001b[38;5;28mlist\u001b[39m(csv.reader(file,delimiter=\u001b[33m'\u001b[39m\u001b[33m;\u001b[39m\u001b[33m'\u001b[39m))    \u001b[38;5;66;03m#obtengo todos los datos del archivo y los paso a una lista\u001b[39;00m\n\u001b[32m     13\u001b[39m     agregar_columna(datos)                          \u001b[38;5;66;03m#llamo a la funcion agregar_columna para agregar la nueva columna al archivo\u001b[39;00m\n",
      "\u001b[36mFile \u001b[39m\u001b[32mc:\\Users\\Tuky\\Desktop\\tpfinal\\Tp_Final\\venv\\Lib\\site-packages\\IPython\\core\\interactiveshell.py:326\u001b[39m, in \u001b[36m_modified_open\u001b[39m\u001b[34m(file, *args, **kwargs)\u001b[39m\n\u001b[32m    319\u001b[39m \u001b[38;5;28;01mif\u001b[39;00m file \u001b[38;5;129;01min\u001b[39;00m {\u001b[32m0\u001b[39m, \u001b[32m1\u001b[39m, \u001b[32m2\u001b[39m}:\n\u001b[32m    320\u001b[39m     \u001b[38;5;28;01mraise\u001b[39;00m \u001b[38;5;167;01mValueError\u001b[39;00m(\n\u001b[32m    321\u001b[39m         \u001b[33mf\u001b[39m\u001b[33m\"\u001b[39m\u001b[33mIPython won\u001b[39m\u001b[33m'\u001b[39m\u001b[33mt let you open fd=\u001b[39m\u001b[38;5;132;01m{\u001b[39;00mfile\u001b[38;5;132;01m}\u001b[39;00m\u001b[33m by default \u001b[39m\u001b[33m\"\u001b[39m\n\u001b[32m    322\u001b[39m         \u001b[33m\"\u001b[39m\u001b[33mas it is likely to crash IPython. If you know what you are doing, \u001b[39m\u001b[33m\"\u001b[39m\n\u001b[32m    323\u001b[39m         \u001b[33m\"\u001b[39m\u001b[33myou can use builtins\u001b[39m\u001b[33m'\u001b[39m\u001b[33m open.\u001b[39m\u001b[33m\"\u001b[39m\n\u001b[32m    324\u001b[39m     )\n\u001b[32m--> \u001b[39m\u001b[32m326\u001b[39m \u001b[38;5;28;01mreturn\u001b[39;00m \u001b[43mio_open\u001b[49m\u001b[43m(\u001b[49m\u001b[43mfile\u001b[49m\u001b[43m,\u001b[49m\u001b[43m \u001b[49m\u001b[43m*\u001b[49m\u001b[43margs\u001b[49m\u001b[43m,\u001b[49m\u001b[43m \u001b[49m\u001b[43m*\u001b[49m\u001b[43m*\u001b[49m\u001b[43mkwargs\u001b[49m\u001b[43m)\u001b[49m\n",
      "\u001b[31mFileNotFoundError\u001b[39m: [Errno 2] No such file or directory: '../dataset_hogar'"
     ]
    }
   ],
   "source": [
    "# Punto 8\n",
    "\n",
    "sys.path.append(os.path.abspath(\"../src\"))    #añadir la ruta al sistema\n",
    "\n",
    "from functions_A8 import *     #importo todas las funciones del archivo functions_A8.py\n",
    "\n",
    "path_file = \"../dataset_hogar.txt\"   #ruta del archivo a modificar\n",
    "\n",
    "\n",
    "#obtengo el archivo y lo paso a una lista para posteriormente transformarlo\n",
    "with open(path_file, mode='r', encoding='utf-8') as file:     \n",
    "    datos = list(csv.reader(file,delimiter=';'))    #obtengo todos los datos del archivo y los paso a una lista\n",
    "    agregar_columna(datos)                          #llamo a la funcion agregar_columna para agregar la nueva columna al archivo\n",
    "\n",
    "#escribo en el archivo la columna con sus valores\n",
    "with open(path_file, mode='w', newline='', encoding='utf-8') as file_out:   \n",
    "    datosEscritura = csv.writer(file_out, delimiter=';')    #escribo en el archivo la columna con sus valores\n",
    "    for row in datos:                                       #recorro la lista de datos\n",
    "        datosEscritura.writerow(row)                        #escribo cada fila en el archivo\n"
   ]
  },
  {
   "cell_type": "code",
   "execution_count": null,
   "id": "cb3eda3c",
   "metadata": {},
   "outputs": [],
   "source": [
    "# Punto 9\n",
    "\n",
    "sys.path.append(os.path.abspath(\"../src\"))\n",
    "\n",
    "from functions_A9 import agregar_columna_2\n",
    "\n",
    "path_file = \"../dataset_hogar.txt\"\n",
    "\n",
    "#obtengo del archivo todos los datos y los paso a una lista para posteriormente transformarlo\n",
    "with open(path_file, mode='r', encoding='utf-8') as file:\n",
    "    datos = list(csv.reader(file,delimiter=';'))    \n",
    "    agregar_columna_2(datos)\n",
    "\n",
    "#escribo en el archivo la columna con sus valores\n",
    "with open(path_file, mode='w', newline='', encoding='utf-8') as file_out:\n",
    "    datosEscritura = csv.writer(file_out, delimiter=';')    \n",
    "    for row in datos:\n",
    "        datosEscritura.writerow(row)"
   ]
  }
 ],
 "metadata": {
  "kernelspec": {
   "display_name": "venv",
   "language": "python",
   "name": "python3"
  },
  "language_info": {
   "codemirror_mode": {
    "name": "ipython",
    "version": 3
   },
   "file_extension": ".py",
   "mimetype": "text/x-python",
   "name": "python",
   "nbconvert_exporter": "python",
   "pygments_lexer": "ipython3",
   "version": "3.12.9"
  }
 },
 "nbformat": 4,
 "nbformat_minor": 5
}
