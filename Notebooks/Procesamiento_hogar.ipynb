{
 "cells": [
  {
   "cell_type": "code",
   "execution_count": 1,
   "id": "14c6e2db",
   "metadata": {},
   "outputs": [],
   "source": [
    "import csv\n",
    "from pathlib import Path\n",
    "\n",
    "archivos = list((Path (\"..\") / \"DATA\").glob(\"usu_hogar_T*.txt\"))\n",
    "list_dataset = []\n",
    "encabezado = [None]\n",
    "for archivo in archivos:\n",
    "    with open (archivo, \"r\", encoding='utf-8') as f:\n",
    "        reader = csv.reader(f, delimiter=\";\")\n",
    "        # Leer el encabezado solo una vez\n",
    "        if encabezado == [None]:\n",
    "            encabezado = next(reader)\n",
    "        # Guardar la data en la lista\n",
    "        list_dataset.extend(list(reader))\n",
    "\n",
    "path_dataset = Path(\"..\") / \"dataset_hogar.txt\"\n",
    "with open(path_dataset, \"w\", encoding=\"utf-8\") as f:\n",
    "    writer = csv.writer(f, delimiter=';')\n",
    "    writer.writerow(encabezado)\n",
    "    writer.writerows(list_dataset)\n",
    "#DataSet creado"
   ]
  }
 ],
 "metadata": {
  "kernelspec": {
   "display_name": "Python 3",
   "language": "python",
   "name": "python3"
  },
  "language_info": {
   "codemirror_mode": {
    "name": "ipython",
    "version": 3
   },
   "file_extension": ".py",
   "mimetype": "text/x-python",
   "name": "python",
   "nbconvert_exporter": "python",
   "pygments_lexer": "ipython3",
   "version": "3.12.9"
  }
 },
 "nbformat": 4,
 "nbformat_minor": 5
}
