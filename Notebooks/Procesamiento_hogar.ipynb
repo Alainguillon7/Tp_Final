{
 "cells": [
  {
   "cell_type": "code",
   "execution_count": 1,
   "id": "db0c7ab6",
   "metadata": {},
   "outputs": [],
   "source": [
    "import sys\n",
    "import os\n",
    "import csv\n",
    "from pathlib import Path"
   ]
  },
  {
   "cell_type": "code",
   "execution_count": null,
   "id": "14c6e2db",
   "metadata": {},
   "outputs": [],
   "source": [
    "sys.path.append(os.path.abspath(\"../src\"))\n",
    "carpeta = Path(\"..\") / \"DATA\"\n",
    "from crear_dataset import crear_dataset_ind\n",
    "crear_dataset_ind(carpeta)\n"
   ]
  },
  {
   "cell_type": "code",
   "execution_count": null,
   "id": "97e5d580",
   "metadata": {},
   "outputs": [],
   "source": [
    "# Punto 7\n",
    "\n",
    "sys.path.append(os.path.abspath(\"../src\"))\n",
    "\n",
    "from functions_A7 import agregar_columna\n",
    "\n",
    "path_file = \"../files/usu_hogar_T324.txt\"\n",
    "\n",
    "#obtengo del archivo todos los datos y los paso a una lista para posteriormente transformarlo\n",
    "with open(path_file, mode='r', encoding='utf-8') as file:\n",
    "    datos = list(csv.reader(file,delimiter=';'))    \n",
    "    agregar_columna(datos)\n",
    "\n",
    "#escribo en el archivo la columna con sus valores\n",
    "with open(path_file, mode='w', newline='', encoding='utf-8') as file_out:\n",
    "    datosEscritura = csv.writer(file_out, delimiter=';')    \n",
    "    for row in datos:\n",
    "        datosEscritura.writerow(row)"
   ]
  },
  {
   "cell_type": "code",
   "execution_count": null,
   "id": "b70e1895",
   "metadata": {},
   "outputs": [],
   "source": [
    "# Punto 8\n",
    "\n",
    "sys.path.append(os.path.abspath(\"../src\"))    #añadir la ruta al sistema\n",
    "\n",
    "from functions_A8 import *     #importo todas las funciones del archivo functions_A8.py\n",
    "\n",
    "path_file = \"../files/usu_hogar_T324.txt\"   #ruta del archivo a modificar\n",
    "\n",
    "\n",
    "#obtengo el archivo y lo paso a una lista para posteriormente transformarlo\n",
    "with open(path_file, mode='r', encoding='utf-8') as file:     \n",
    "    datos = list(csv.reader(file,delimiter=';'))    #obtengo todos los datos del archivo y los paso a una lista\n",
    "    agregar_columna(datos)                          #llamo a la funcion agregar_columna para agregar la nueva columna al archivo\n",
    "\n",
    "#escribo en el archivo la columna con sus valores\n",
    "with open(path_file, mode='w', newline='', encoding='utf-8') as file_out:   \n",
    "    datosEscritura = csv.writer(file_out, delimiter=';')    #escribo en el archivo la columna con sus valores\n",
    "    for row in datos:                                       #recorro la lista de datos\n",
    "        datosEscritura.writerow(row)                        #escribo cada fila en el archivo\n"
   ]
  },
  {
   "cell_type": "code",
   "execution_count": null,
   "id": "cb3eda3c",
   "metadata": {},
   "outputs": [],
   "source": [
    "# Punto 9\n",
    "\n",
    "sys.path.append(os.path.abspath(\"../src\"))\n",
    "\n",
    "from functions_A9 import agregar_columna_2\n",
    "\n",
    "path_file = \"../files/usu_hogar_T324.txt\"\n",
    "\n",
    "#obtengo del archivo todos los datos y los paso a una lista para posteriormente transformarlo\n",
    "with open(path_file, mode='r', encoding='utf-8') as file:\n",
    "    datos = list(csv.reader(file,delimiter=';'))    \n",
    "    agregar_columna_2(datos)\n",
    "\n",
    "#escribo en el archivo la columna con sus valores\n",
    "with open(path_file, mode='w', newline='', encoding='utf-8') as file_out:\n",
    "    datosEscritura = csv.writer(file_out, delimiter=';')    \n",
    "    for row in datos:\n",
    "        datosEscritura.writerow(row)"
   ]
  }
 ],
 "metadata": {
  "kernelspec": {
   "display_name": "Python 3",
   "language": "python",
   "name": "python3"
  },
  "language_info": {
   "codemirror_mode": {
    "name": "ipython",
    "version": 3
   },
   "file_extension": ".py",
   "mimetype": "text/x-python",
   "name": "python",
   "nbconvert_exporter": "python",
   "pygments_lexer": "ipython3",
   "version": "3.12.9"
  }
 },
 "nbformat": 4,
 "nbformat_minor": 5
}
