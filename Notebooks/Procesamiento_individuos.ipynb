{
 "cells": [
  {
   "cell_type": "code",
   "execution_count": 2,
   "id": "48eb8b65",
   "metadata": {},
   "outputs": [],
   "source": [
    "import sys\n",
    "import os\n",
    "sys.path.append(os.path.abspath(\"../src\"))\n",
    "from pathlib import Path\n",
    "import csv\n",
    "from A3y4.functions_A import *\n"
   ]
  },
  {
   "cell_type": "code",
   "execution_count": 7,
   "id": "953c6b77",
   "metadata": {},
   "outputs": [],
   "source": [
    "archivos = list((Path (\"..\") / \"DATA\").glob(\"usu_individual_T*.txt\"))\n",
    "list_dataset = []\n",
    "encabezado = [None]\n",
    "for archivo in archivos:\n",
    "    with open (archivo, \"r\", encoding='utf-8') as f:\n",
    "        reader = csv.reader(f, delimiter=\";\")\n",
    "        # Leer el encabezado solo una vez\n",
    "        if encabezado == [None]:\n",
    "            encabezado = next(reader)\n",
    "        # Guardar la data en la lista\n",
    "        list_dataset.extend(list(reader))\n",
    "\n",
    "path_dataset = Path(\"..\") / \"dataset_individuos.txt\"\n",
    "with open(path_dataset, \"w\",newline='', encoding=\"utf-8\") as f:\n",
    "    writer = csv.writer(f, delimiter=';')\n",
    "    writer.writerow(encabezado)\n",
    "    writer.writerows(list_dataset)\n",
    "#DataSet creado"
   ]
  },
  {
   "cell_type": "code",
   "execution_count": 3,
   "id": "86a265aa",
   "metadata": {},
   "outputs": [],
   "source": [
    "# Seccion A - Inciso 3\n",
    "# Creacion columna CH04str = String sexo\n",
    "\n",
    "from pathlib import Path\n",
    "path_dataset = Path(\"..\") / \"dataset_individuos.txt\"\n",
    "\n",
    "sexo = {\n",
    "    1: \"Hombre\",\n",
    "    2: \"Mujer\",\n",
    "}\n",
    "\n",
    "traduccion_columna(path_dataset,\"CH04\",\"CH04str\",sexo)\n"
   ]
  },
  {
   "cell_type": "code",
   "execution_count": 4,
   "id": "8ee96c7e",
   "metadata": {},
   "outputs": [],
   "source": [
    "# Seccion A - Inciso 4\n",
    "# Creacion columna NIVEL_ED = String nivel educativo\n",
    "\n",
    "from pathlib import Path\n",
    "path_dataset = Path(\"..\") / \"dataset_individuos.txt\"\n",
    "\n",
    "niveles_educativos = {\n",
    "    0: \"Sin informacion\",\n",
    "    1: \"Primario incompleto\",\n",
    "    2: \"Primario completo\",\n",
    "    3: \"Secundario incompleto\",\n",
    "    4: \"Secundario completo\",\n",
    "    5: \"Superior o universitario\",\n",
    "    6: \"Superior o universitario\",\n",
    "    7: \"Sin informacion\",\n",
    "    8: \"Sin informacion\",\n",
    "    9: \"Sin informacion\"\n",
    "}\n",
    "\n",
    "traduccion_columna(path_dataset,\"NIVEL_ED\",\"NIVEL_ED_str\",niveles_educativos)"
   ]
  },
  {
   "cell_type": "code",
   "execution_count": null,
   "id": "38977ead",
   "metadata": {},
   "outputs": [],
   "source": [
    "# Seccion A - Inciso 4\n",
    "# Creacion columna CONDICION_LABORAL = String nivel educativo\n",
    "from A5.functions_A5 import *\n",
    "from pathlib import Path\n",
    "path_dataset = Path(\"..\") / \"dataset_individuos.txt\"\n",
    "\n",
    "situaciones_laborales = {\n",
    "    1: {\n",
    "        1: \"Ocupado autonomo\",\n",
    "        2: \"Ocupado autonomo\",\n",
    "        3: \"Ocupado dependiente\",\n",
    "        4: \"Ocupado dependiente\",\n",
    "        9: \"Ocupado dependiente\",\n",
    "    },\n",
    "    2: \"Desocupado\",\n",
    "    3: \"Inactivo\",\n",
    "    4: \"Sin informacion\"\n",
    "}\n",
    "\n",
    "traduccion_columna_doble(path_dataset,\"ESTADO\",\"CAT_OCUP\",\"CONDICION_LABORAL\",situaciones_laborales)"
   ]
  },
  {
   "cell_type": "code",
   "execution_count": null,
   "id": "2f5338b9",
   "metadata": {},
   "outputs": [],
   "source": [
    "# Seccion A - Inciso 6\n",
    "# Creacion columna NIVEL_ED = String nivel educativo\n",
    "\n",
    "#PREGUNTAR SI ES NECESARIO NUEVA FUNCION EN CASO DE CARGA DE DATOS ERRONEA\n",
    "\n",
    "from pathlib import Path\n",
    "path_dataset = Path(\"..\") / \"dataset_individuos.txt\"\n",
    "\n",
    "niveles_educativos = {\n",
    "    1:0,\n",
    "    2:0,\n",
    "    3:0,\n",
    "    4:0,\n",
    "    5:1,\n",
    "    6:1,\n",
    "    7:2,\n",
    "    8:2,\n",
    "    9:2\n",
    "}\n",
    "\n",
    "traduccion_columna(path_dataset,\"NIVEL_ED\",\"UNIVERSITARIO\",niveles_educativos)"
   ]
  }
 ],
 "metadata": {
  "kernelspec": {
   "display_name": "Python 3",
   "language": "python",
   "name": "python3"
  },
  "language_info": {
   "codemirror_mode": {
    "name": "ipython",
    "version": 3
   },
   "file_extension": ".py",
   "mimetype": "text/x-python",
   "name": "python",
   "nbconvert_exporter": "python",
   "pygments_lexer": "ipython3",
   "version": "3.12.9"
  }
 },
 "nbformat": 4,
 "nbformat_minor": 5
}
