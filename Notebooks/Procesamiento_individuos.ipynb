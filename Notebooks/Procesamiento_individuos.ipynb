{
 "cells": [
  {
   "cell_type": "code",
   "execution_count": 1,
   "id": "48eb8b65",
   "metadata": {},
   "outputs": [],
   "source": [
    "import sys\n",
    "import os\n",
    "import csv\n",
    "sys.path.append(os.path.abspath(\"../src\"))\n",
    "from pathlib import Path\n",
    "\n"
   ]
  },
  {
   "cell_type": "code",
   "execution_count": 2,
   "id": "953c6b77",
   "metadata": {},
   "outputs": [],
   "source": [
    "\n",
    "from crear_dataset import crear_dataset_ind\n",
    "carpeta = Path(\"..\") / \"DATA\"\n",
    "crear_dataset_ind(carpeta)\n",
    "\n"
   ]
  },
  {
   "cell_type": "code",
   "execution_count": 3,
   "id": "86a265aa",
   "metadata": {},
   "outputs": [],
   "source": [
    "# Seccion A - Inciso 3\n",
    "# Creacion columna CH04str = String sexo\n",
    "from functions_A3y4 import *\n",
    "path_dataset = Path(\"..\") / \"dataset_individuos.txt\"\n",
    "\n",
    "sexo = {\n",
    "    1: \"Masculino\",\n",
    "    2: \"Femenino\",\n",
    "}\n",
    "\n",
    "traduccion_columna(path_dataset,\"CH04\",\"CH04str\",sexo)\n"
   ]
  },
  {
   "cell_type": "code",
   "execution_count": 4,
   "id": "8ee96c7e",
   "metadata": {},
   "outputs": [],
   "source": [
    "# Seccion A - Inciso 4\n",
    "# Creacion columna NIVEL_ED = String nivel educativo\n",
    "from functions_A3y4 import *\n",
    "path_dataset = Path(\"..\") / \"dataset_individuos.txt\"\n",
    "\n",
    "niveles_educativos = {\n",
    "    0: \"Sin informacion\",\n",
    "    1: \"Primario incompleto\",\n",
    "    2: \"Primario completo\",\n",
    "    3: \"Secundario incompleto\",\n",
    "    4: \"Secundario completo\",\n",
    "    5: \"Superior o universitario\",\n",
    "    6: \"Superior o universitario\",\n",
    "    7: \"Sin informacion\",\n",
    "    8: \"Sin informacion\",\n",
    "    9: \"Sin informacion\"\n",
    "}\n",
    "\n",
    "traduccion_columna(path_dataset,\"NIVEL_ED\",\"NIVEL_ED_str\",niveles_educativos)"
   ]
  },
  {
   "cell_type": "code",
   "execution_count": 5,
   "id": "38977ead",
   "metadata": {},
   "outputs": [],
   "source": [
    "# Seccion A - Inciso 45\n",
    "# Creacion columna CONDICION_LABORAL = String nivel educativo\n",
    "from functions_A5y6 import crear_columna_doble\n",
    "from utils import get_indice\n",
    "path_dataset = Path(\"..\") / \"dataset_individuos.txt\"\n",
    "\n",
    "situaciones_laborales = {\n",
    "    1: {\n",
    "        1: \"Ocupado autonomo\",\n",
    "        2: \"Ocupado autonomo\",\n",
    "        3: \"Ocupado dependiente\",\n",
    "        4: \"Ocupado dependiente\",\n",
    "        9: \"Ocupado dependiente\",\n",
    "    },\n",
    "    2: \"Desocupado\",\n",
    "    3: \"Inactivo\",\n",
    "    4: \"Sin informacion\"\n",
    "}\n",
    "#Obtener todos los datos del dataset y guardarlos en una lista\n",
    "with open(path_dataset, \"r\", encoding=\"utf-8\") as f:\n",
    "    reader = csv.reader(f, delimiter=\";\")\n",
    "    filas = list(reader)\n",
    "if (\"CONDICION_LABORAL\") not in filas[0]:\n",
    "    # crear una lista correspondiente a la nueva columna\n",
    "    columna = crear_columna_doble(filas, \"ESTADO\", \"CAT_OCUP\", \"CONDICION_LABORAL\", situaciones_laborales)\n",
    "    i = get_indice(filas[0], \"CAT_OCUP\")\n",
    "\n",
    "    for j, fila in enumerate(filas):\n",
    "        fila.insert(i + 1, columna[j])\n",
    "\n",
    "    with open(path_dataset, \"w\", newline=\"\", encoding=\"utf-8\") as f:\n",
    "        writer = csv.writer(f, delimiter=\";\")\n",
    "        writer.writerows(filas)"
   ]
  },
  {
   "cell_type": "code",
   "execution_count": 6,
   "id": "2f5338b9",
   "metadata": {},
   "outputs": [],
   "source": [
    "# Seccion A - Inciso 6\n",
    "# Creacion columna Universitario = integer finalizacion nivel educativo universitario\n",
    "\n",
    "from functions_A5y6 import crear_columna_doble\n",
    "from utils import get_indice\n",
    "path_dataset = Path(\"..\") / \"dataset_individuos.txt\"\n",
    "\n",
    "niveles_educativos = {\n",
    "    1: 0,\n",
    "    2: 0,\n",
    "    3: 0,\n",
    "    4: 0,\n",
    "    5: 1,\n",
    "    6: 1,\n",
    "    7: {1:1, 2:0, 3:2},\n",
    "    8: {1:1, 2:0, 3:2},\n",
    "    9: {1:1, 2:0, 3:2},\n",
    "}\n",
    "\n",
    "\n",
    "#Obtener todos los datos del dataset y guardarlos en una lista\n",
    "with open(path_dataset, \"r\", encoding=\"utf-8\") as f:\n",
    "    reader = csv.reader(f, delimiter=\";\")\n",
    "    filas = list(reader)\n",
    "if (\"UNIVERSITARIO\") not in filas[0]:\n",
    "    # crear una lista correspondiente a la nueva columna\n",
    "    columna = crear_columna_doble(filas, \"CH12\", \"CH13\", \"UNIVERSITARIO\", niveles_educativos)\n",
    "    i = get_indice(filas[0], \"CH13\")\n",
    "\n",
    "    for j, fila in enumerate(filas):\n",
    "        fila.insert(i + 1, columna[j])\n",
    "\n",
    "    with open(path_dataset, \"w\", newline=\"\", encoding=\"utf-8\") as f:\n",
    "        writer = csv.writer(f, delimiter=\";\")\n",
    "        writer.writerows(filas)"
   ]
  }
 ],
 "metadata": {
  "kernelspec": {
   "display_name": "Python 3",
   "language": "python",
   "name": "python3"
  },
  "language_info": {
   "codemirror_mode": {
    "name": "ipython",
    "version": 3
   },
   "file_extension": ".py",
   "mimetype": "text/x-python",
   "name": "python",
   "nbconvert_exporter": "python",
   "pygments_lexer": "ipython3",
   "version": "3.12.9"
  }
 },
 "nbformat": 4,
 "nbformat_minor": 5
}
