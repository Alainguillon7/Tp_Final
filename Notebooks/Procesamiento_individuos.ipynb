{
 "cells": [
  {
   "cell_type": "code",
   "execution_count": 3,
   "id": "953c6b77",
   "metadata": {},
   "outputs": [],
   "source": [
    "import csv\n",
    "from pathlib import Path\n",
    "\n",
    "archivos = list((Path (\"..\") / \"DATA\").glob(\"usu_individual_T*.txt\"))\n",
    "list_dataset = []\n",
    "encabezado = [None]\n",
    "for archivo in archivos:\n",
    "    with open (archivo, \"r\", encoding='utf-8') as f:\n",
    "        reader = csv.reader(f, delimiter=\";\")\n",
    "        # Leer el encabezado solo una vez\n",
    "        if encabezado == [None]:\n",
    "            encabezado = next(reader)\n",
    "        # Guardar la data en la lista\n",
    "        list_dataset.extend(list(reader))\n",
    "\n",
    "path_dataset = Path(\"..\") / \"dataset_individuos.txt\"\n",
    "with open(path_dataset, \"w\", encoding=\"utf-8\") as f:\n",
    "    writer = csv.writer(f, delimiter=';')\n",
    "    writer.writerow(encabezado)\n",
    "    writer.writerows(list_dataset)\n",
    "#DataSet creado"
   ]
  },
  {
   "cell_type": "code",
   "execution_count": null,
   "id": "86a265aa",
   "metadata": {},
   "outputs": [
    {
     "ename": "IndexError",
     "evalue": "list index out of range",
     "output_type": "error",
     "traceback": [
      "\u001b[31m---------------------------------------------------------------------------\u001b[39m",
      "\u001b[31mIndexError\u001b[39m                                Traceback (most recent call last)",
      "\u001b[36mCell\u001b[39m\u001b[36m \u001b[39m\u001b[32mIn[5]\u001b[39m\u001b[32m, line 23\u001b[39m\n\u001b[32m     20\u001b[39m     \u001b[38;5;66;03m#Nuevo reader apuntando al inicio del archivo\u001b[39;00m\n\u001b[32m     22\u001b[39m     \u001b[38;5;28;01mfor\u001b[39;00m j,fila \u001b[38;5;129;01min\u001b[39;00m \u001b[38;5;28menumerate\u001b[39m(filas):\n\u001b[32m---> \u001b[39m\u001b[32m23\u001b[39m         fila.insert(i+\u001b[32m1\u001b[39m, \u001b[43mcolumna\u001b[49m\u001b[43m \u001b[49m\u001b[43m[\u001b[49m\u001b[43mj\u001b[49m\u001b[43m]\u001b[49m) \n\u001b[32m     25\u001b[39m \u001b[38;5;28;01mwith\u001b[39;00m \u001b[38;5;28mopen\u001b[39m(path_dataset, \u001b[33m\"\u001b[39m\u001b[33mw\u001b[39m\u001b[33m\"\u001b[39m, encoding=\u001b[33m\"\u001b[39m\u001b[33mutf-8\u001b[39m\u001b[33m\"\u001b[39m) \u001b[38;5;28;01mas\u001b[39;00m f:\n\u001b[32m     26\u001b[39m     writer = csv.writer(f, delimiter=\u001b[33m'\u001b[39m\u001b[33m;\u001b[39m\u001b[33m'\u001b[39m)\n",
      "\u001b[31mIndexError\u001b[39m: list index out of range"
     ]
    }
   ],
   "source": [
    "#Columna CH04str = String sexo\n",
    "\n",
    "import sys\n",
    "import os\n",
    "from pathlib import Path\n",
    "import csv\n",
    "\n",
    "sys.path.append(os.path.abspath(\"../src/A3\"))\n",
    "\n",
    "from functions_A3 import crear_columna\n",
    "\n",
    "path_dataset = Path(\"..\") / \"dataset_individuos.txt\"\n",
    "\n",
    "with open(path_dataset, \"r\", newline=\"\", encoding=\"utf-8\") as f:\n",
    "    reader = csv.reader(f,delimiter=';')\n",
    "    filas = list(reader)\n",
    "\n",
    "    # crear una lista con los datos \n",
    "    columna,i = crear_columna(filas)\n",
    "    #Nuevo reader apuntando al inicio del archivo\n",
    "\n",
    "    for j,fila in enumerate(filas):\n",
    "        while len(fila) < i + 1:\n",
    "            fila.append(\"\")\n",
    "        fila.insert(i+1, columna [j]) \n",
    "\n",
    "with open(path_dataset, \"w\", encoding=\"utf-8\") as f:\n",
    "    writer = csv.writer(f, delimiter=';')\n",
    "    writer.writerows(filas)\n"
   ]
  },
  {
   "cell_type": "code",
   "execution_count": null,
   "id": "13b75086",
   "metadata": {},
   "outputs": [],
   "source": []
  }
 ],
 "metadata": {
  "kernelspec": {
   "display_name": "Python 3",
   "language": "python",
   "name": "python3"
  },
  "language_info": {
   "codemirror_mode": {
    "name": "ipython",
    "version": 3
   },
   "file_extension": ".py",
   "mimetype": "text/x-python",
   "name": "python",
   "nbconvert_exporter": "python",
   "pygments_lexer": "ipython3",
   "version": "3.12.9"
  }
 },
 "nbformat": 4,
 "nbformat_minor": 5
}
