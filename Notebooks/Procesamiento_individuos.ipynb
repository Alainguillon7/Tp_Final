{
 "cells": [
  {
   "cell_type": "code",
   "execution_count": 1,
   "id": "953c6b77",
   "metadata": {},
   "outputs": [],
   "source": [
    "import csv\n",
    "from pathlib import Path\n",
    "\n",
    "archivos = list((Path (\"..\") / \"DATA\").glob(\"usu_individual_T*.txt\"))\n",
    "list_dataset = []\n",
    "encabezado = [None]\n",
    "for archivo in archivos:\n",
    "    with open (archivo, \"r\", encoding='utf-8') as f:\n",
    "        reader = csv.reader(f, delimiter=\";\")\n",
    "        # Leer el encabezado solo una vez\n",
    "        if encabezado == [None]:\n",
    "            encabezado = next(reader)\n",
    "        # Guardar la data en la lista\n",
    "        list_dataset.extend(list(reader))\n",
    "\n",
    "path_dataset = Path(\"..\") / \"dataset_individuos.txt\"\n",
    "with open(path_dataset, \"w\",newline='', encoding=\"utf-8\") as f:\n",
    "    writer = csv.writer(f, delimiter=';')\n",
    "    writer.writerow(encabezado)\n",
    "    writer.writerows(list_dataset)\n",
    "#DataSet creado"
   ]
  },
  {
   "cell_type": "code",
   "execution_count": 2,
   "id": "86a265aa",
   "metadata": {},
   "outputs": [],
   "source": [
    "#Columna CH04str = String sexo\n",
    "\n",
    "import sys\n",
    "import os\n",
    "from pathlib import Path\n",
    "import csv\n",
    "sys.path.append(os.path.abspath(\"../src/A3\"))\n",
    "from functions_A3 import crear_columna\n",
    "\n",
    "path_dataset = Path(\"..\") / \"dataset_individuos.txt\"\n",
    "\n",
    "with open(path_dataset, \"r\", encoding=\"utf-8\") as f:\n",
    "    reader = csv.reader(f,delimiter=';')\n",
    "    filas = list(reader)\n",
    "\n",
    "    # crear una lista con los datos \n",
    "    columna,i = crear_columna(filas)\n",
    "\n",
    "\n",
    "    for j, fila in enumerate(filas):\n",
    "            fila.insert(i + 1, columna[j])\n",
    "\n",
    "with open(path_dataset, \"w\",newline='', encoding=\"utf-8\") as f:\n",
    "    writer = csv.writer(f, delimiter=';')\n",
    "    writer.writerows(filas)\n"
   ]
  }
 ],
 "metadata": {
  "kernelspec": {
   "display_name": "Python 3",
   "language": "python",
   "name": "python3"
  },
  "language_info": {
   "codemirror_mode": {
    "name": "ipython",
    "version": 3
   },
   "file_extension": ".py",
   "mimetype": "text/x-python",
   "name": "python",
   "nbconvert_exporter": "python",
   "pygments_lexer": "ipython3",
   "version": "3.12.9"
  }
 },
 "nbformat": 4,
 "nbformat_minor": 5
}
