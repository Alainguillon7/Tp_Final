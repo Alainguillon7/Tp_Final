{
 "cells": [
  {
   "cell_type": "code",
   "execution_count": 2,
   "id": "16ca45d7",
   "metadata": {},
   "outputs": [],
   "source": [
    "import sys\n",
    "import os\n",
    "import csv"
   ]
  },
  {
   "cell_type": "code",
   "execution_count": 14,
   "id": "df3b0d36",
   "metadata": {},
   "outputs": [
    {
     "name": "stdout",
     "output_type": "stream",
     "text": [
      "año: 2023\n",
      "    leidos: 98.53 \n",
      "    no_leidos: 1.47\n",
      "    -------------------------------\n",
      "    \n",
      "año: 2024\n",
      "    leidos: 98.58 \n",
      "    no_leidos: 1.42\n",
      "    -------------------------------\n",
      "    \n"
     ]
    }
   ],
   "source": [
    "#Sector B - Inciso 1\n",
    "\n",
    "sys.path.append(os.path.abspath(\"../src\"))\n",
    "from pathlib import Path\n",
    "from functions_B1 import imprimir_resultado, obtener_trimestre_mas_alto\n",
    "from utils import get_indice\n",
    "path_dataset = Path(\"..\") / \"dataset_individuos.txt\"\n",
    "\n",
    "\n",
    "with open(path_dataset, \"r\", encoding=\"utf-8\") as f:\n",
    "    reader = csv.reader(f, delimiter=\";\")\n",
    "    filas = list(reader)\n",
    "\n",
    "i_año = get_indice(filas[0],\"ANO4\")\n",
    "i_tri = get_indice(filas[0],\"TRIMESTRE\")\n",
    "i_lee = get_indice(filas[0],\"CH09\")\n",
    "i_edad = get_indice(filas[0],\"CH06\")\n",
    "i_cant = get_indice(filas[0],\"PONDERA\")\n",
    "\n",
    "registro = {1 : 0, 2 : 0, 3 : 0}\n",
    "actual = None\n",
    "filas = list(filter(lambda x: x[i_edad].isdigit() and int(x[i_edad]) >= 6, filas[1:]))\n",
    "#Filtrar por mayores de 6 años\n",
    "for fila in filas:\n",
    "    if actual is None: # Primera vez que se lee el año\n",
    "        actual = fila[i_año]  \n",
    "        t = obtener_trimestre_mas_alto(actual, filas,i_año,i_tri)\n",
    "\n",
    "    if fila[i_año] != actual:\n",
    "        imprimir_resultado(registro, actual)\n",
    "        actual = fila[i_año]\n",
    "        t = obtener_trimestre_mas_alto(actual, filas,i_año,i_tri)\n",
    "        registro = {1: 0, 2: 0, 3: 0}\n",
    "\n",
    "    if fila[i_tri] == t:\n",
    "        if fila[i_lee] > '0' and fila[i_lee] < '4' and fila[i_cant].isdigit():\n",
    "            registro[int(fila[i_lee])] += int(fila[i_cant])\n",
    "\n",
    "imprimir_resultado(registro, actual)\n"
   ]
  },
  {
   "cell_type": "code",
   "execution_count": 8,
   "id": "03cbc0dc",
   "metadata": {},
   "outputs": [
    {
     "name": "stdout",
     "output_type": "stream",
     "text": [
      "En el año 2024 - trimestre 1 hay un  porcentaje de extranjeros universitarios es: 0.96%\n"
     ]
    }
   ],
   "source": [
    "#Sector B - Inciso 2\n",
    "\n",
    "sys.path.append(os.path.abspath(\"../src\"))\n",
    "from pathlib import Path\n",
    "from utils import get_indice\n",
    "\n",
    "path_dataset = Path(\"..\") / \"dataset_individuos.txt\"\n",
    "\n",
    "#año = input(\"Ingrese el año: \")\n",
    "#trimestre = input(\"Ingrese el trimestre (1 - 2 - 3 - 4): \")\n",
    "año = '2024'\n",
    "trimestre = '1'\n",
    "\n",
    "with open(path_dataset, \"r\", encoding=\"utf-8\") as f:\n",
    "    reader = csv.reader(f, delimiter=\";\")\n",
    "    filas = list(reader)\n",
    "\n",
    "i_año = get_indice(filas[0],\"ANO4\")\n",
    "i_tri = get_indice(filas[0],\"TRIMESTRE\")\n",
    "i_uni = get_indice(filas[0],\"UNIVERSITARIO\")\n",
    "i_ext = get_indice(filas[0],\"CH15\")\n",
    "i_cant = get_indice(filas[0],\"PONDERA\")\n",
    "\n",
    "#En la columna CH15 los extranjeros son 4 (Pais limitrofe) y 5 (Pais no limitrofe)\n",
    "extranjero = ['4','5']\n",
    "\n",
    "#Filtrar la lista de filas segun el año y trimestre ingresados\n",
    "filas = (list(filter(lambda x: x[i_año] == año and x[i_tri] == trimestre, filas[1:])))\n",
    "total= 0\n",
    "for fila in filas:\n",
    "    if fila[i_cant].isdigit():\n",
    "        total += int(fila[i_cant])\n",
    "filas = (list(filter(lambda x: x[i_uni] == \"1\" and x[i_ext] in extranjero, filas1)))\n",
    "filtrados = 0\n",
    "for fila in filas:\n",
    "    if fila[i_cant].isdigit():\n",
    "        filtrados += int(fila[i_cant])\n",
    "\n",
    "porcentaje = (filtrados * 100) / total \n",
    "\n",
    "print(f\"En el año {año} - trimestre {trimestre} hay un  porcentaje de extranjeros universitarios es: {porcentaje:.2f}%\")\n",
    "\n"
   ]
  },
  {
   "cell_type": "code",
   "execution_count": null,
   "id": "349d7034",
   "metadata": {},
   "outputs": [],
   "source": []
  }
 ],
 "metadata": {
  "kernelspec": {
   "display_name": "Python 3",
   "language": "python",
   "name": "python3"
  },
  "language_info": {
   "codemirror_mode": {
    "name": "ipython",
    "version": 3
   },
   "file_extension": ".py",
   "mimetype": "text/x-python",
   "name": "python",
   "nbconvert_exporter": "python",
   "pygments_lexer": "ipython3",
   "version": "3.12.9"
  }
 },
 "nbformat": 4,
 "nbformat_minor": 5
}
