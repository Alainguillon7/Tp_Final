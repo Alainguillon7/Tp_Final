{
 "cells": [
  {
   "cell_type": "code",
   "execution_count": 5,
   "id": "16ca45d7",
   "metadata": {},
   "outputs": [],
   "source": [
    "import sys\n",
    "import os\n",
    "import csv\n",
    "from pathlib import Path"
   ]
  },
  {
   "cell_type": "code",
   "execution_count": 6,
   "id": "df3b0d36",
   "metadata": {},
   "outputs": [
    {
     "name": "stdout",
     "output_type": "stream",
     "text": [
      "año: 2023\n",
      "    leidos: 98.53 \n",
      "    no_leidos: 1.47\n",
      "    -------------------------------\n",
      "    \n",
      "año: 2024\n",
      "    leidos: 98.58 \n",
      "    no_leidos: 1.42\n",
      "    -------------------------------\n",
      "    \n"
     ]
    }
   ],
   "source": [
    "#Sector B - Inciso 1\n",
    "\n",
    "sys.path.append(os.path.abspath(\"../src\"))\n",
    "from pathlib import Path\n",
    "from functions_B1 import imprimir_resultado, obtener_trimestre_mas_alto\n",
    "from utils import get_indice\n",
    "path_dataset = Path(\"..\") / \"dataset_individuos.txt\"\n",
    "\n",
    "\n",
    "with open(path_dataset, \"r\", encoding=\"utf-8\") as f:\n",
    "    reader = csv.reader(f, delimiter=\";\")\n",
    "    filas = list(reader)\n",
    "\n",
    "i_año = get_indice(filas[0],\"ANO4\")\n",
    "i_tri = get_indice(filas[0],\"TRIMESTRE\")\n",
    "i_lee = get_indice(filas[0],\"CH09\")\n",
    "i_edad = get_indice(filas[0],\"CH06\")\n",
    "i_cant = get_indice(filas[0],\"PONDERA\")\n",
    "\n",
    "registro = {1 : 0, 2 : 0, 3 : 0}\n",
    "actual = None\n",
    "filas = list(filter(lambda x: x[i_edad].isdigit() and int(x[i_edad]) >= 6, filas[1:]))\n",
    "#Filtrar por mayores de 6 años\n",
    "for fila in filas:\n",
    "    if actual is None: # Primera vez que se lee el año\n",
    "        actual = fila[i_año]  \n",
    "        t = obtener_trimestre_mas_alto(actual, filas,i_año,i_tri)\n",
    "\n",
    "    if fila[i_año] != actual:\n",
    "        imprimir_resultado(registro, actual)\n",
    "        actual = fila[i_año]\n",
    "        t = obtener_trimestre_mas_alto(actual, filas,i_año,i_tri)\n",
    "        registro = {1: 0, 2: 0, 3: 0}\n",
    "\n",
    "    if fila[i_tri] == t:\n",
    "        if fila[i_lee] > '0' and fila[i_lee] < '4' and fila[i_cant].isdigit():\n",
    "            registro[int(fila[i_lee])] += int(fila[i_cant])\n",
    "\n",
    "imprimir_resultado(registro, actual)\n"
   ]
  },
  {
   "cell_type": "code",
   "execution_count": null,
   "id": "03cbc0dc",
   "metadata": {},
   "outputs": [
    {
     "name": "stdout",
     "output_type": "stream",
     "text": [
      "['TQRMNOVRTHJLMOCDEIJAH00785878', '2023', '2', '1', '3', '0', '1', 'S', '33', '435', '3', '2', 'Femenino', '02/11/2016', '6', '5', '1', '1', '1', '2', '1', '2', '0', '00', '1', '', '1', '', '7', 'Sin informacion', '4', '0', 'Sin informacion', '3', '', '0', '0', '0', '0', '0', '0', '0', '0', '0', '0', '0', '', '', '', '', '', '', '', '', '', '', '', '', '', '', '', '', '', '', '', '', '', '', '', '', '', '', '', '', '', '', '', '', '', '', '', '', '', '', '', '', '', '', '', '', '', '', '', '', '', '', '', '', '', '', '', '', '', '', '', '', '', '', '', '', '', '', '', '', '', '', '', '', '', '', '', '', '', '', '', '', '', '', '', '', '', '', '', '', '', '', '0', '0', '', '0', '0', '', '0', '435', '0', '0', '0', '', '0', '0', '', '0', '435', '0', '0', '0', '0', '0', '0', '0', '0', '0', '0', '0', '0', '0', '215000', '6', '', '6', '6', '', '6', '71666,67', '5', '', '5', '5', '', '5', '888']\n"
     ]
    },
    {
     "ename": "IndexError",
     "evalue": "list index out of range",
     "output_type": "error",
     "traceback": [
      "\u001b[31m---------------------------------------------------------------------------\u001b[39m",
      "\u001b[31mIndexError\u001b[39m                                Traceback (most recent call last)",
      "\u001b[36mCell\u001b[39m\u001b[36m \u001b[39m\u001b[32mIn[13]\u001b[39m\u001b[32m, line 29\u001b[39m\n\u001b[32m     27\u001b[39m \u001b[38;5;66;03m#Filtrar la lista de filas segun el año y trimestre ingresados\u001b[39;00m\n\u001b[32m     28\u001b[39m filas = (\u001b[38;5;28mlist\u001b[39m(\u001b[38;5;28mfilter\u001b[39m(\u001b[38;5;28;01mlambda\u001b[39;00m x: x[i_año] == año \u001b[38;5;129;01mand\u001b[39;00m x[i_tri] == trimestre, filas[\u001b[32m1\u001b[39m:])))\n\u001b[32m---> \u001b[39m\u001b[32m29\u001b[39m \u001b[38;5;28mprint\u001b[39m(\u001b[43mfilas\u001b[49m\u001b[43m[\u001b[49m\u001b[32;43m3\u001b[39;49m\u001b[43m]\u001b[49m)\n\u001b[32m     30\u001b[39m total= \u001b[32m0\u001b[39m\n\u001b[32m     31\u001b[39m \u001b[38;5;28;01mfor\u001b[39;00m fila \u001b[38;5;129;01min\u001b[39;00m filas:\n",
      "\u001b[31mIndexError\u001b[39m: list index out of range"
     ]
    }
   ],
   "source": [
    "#Sector B - Inciso 2\n",
    "\n",
    "sys.path.append(os.path.abspath(\"../src\"))\n",
    "from utils import get_indice\n",
    "path_dataset = Path(\"..\") / \"dataset_individuos.txt\"\n",
    "\n",
    "#año = input(\"Ingrese el año: \")\n",
    "#trimestre = input(\"Ingrese el trimestre (1 - 2 - 3 - 4): \")\n",
    "año = '2024'\n",
    "trimestre = '1'\n",
    "\n",
    "with open(path_dataset, \"r\", encoding=\"utf-8\") as f:\n",
    "    reader = csv.reader(f, delimiter=\";\")    \n",
    "    filas = list(reader)\n",
    "    \n",
    "\n",
    "i_año = get_indice(filas[0],\"ANO4\")\n",
    "i_tri = get_indice(filas[0],\"TRIMESTRE\")\n",
    "i_uni = get_indice(filas[0],\"UNIVERSITARIO\")\n",
    "i_ext = get_indice(filas[0],\"CH15\")\n",
    "i_cant = get_indice(filas[0],\"PONDERA\")\n",
    "\n",
    "\n",
    "#En la columna CH15 los extranjeros son 4 (Pais limitrofe) y 5 (Pais no limitrofe)\n",
    "extranjero = ['4','5']\n",
    "print(filas[3])\n",
    "#Filtrar la lista de filas segun el año y trimestre ingresados\n",
    "filas = (list(filter(lambda x: x[i_año] == año and x[i_tri] == trimestre, filas[1:])))\n",
    "print(filas[0])\n",
    "total= 0\n",
    "for fila in filas:\n",
    "    if fila[i_cant].isdigit():        \n",
    "        total += int(fila[i_cant])\n",
    "filas = (list(filter(lambda x: x[i_uni] == \"1\" and x[i_ext] in extranjero, filas)))\n",
    "filtrados = 0\n",
    "for fila in filas:\n",
    "    if fila[i_cant].isdigit():\n",
    "        filtrados += int(fila[i_cant])\n",
    "\n",
    "if total!=0: \n",
    "    porcentaje = (filtrados * 100) / total \n",
    "    print(f\"En el año {año} - trimestre {trimestre} hay un  porcentaje de extranjeros universitarios es: {porcentaje:.2f}%\")\n",
    "\n"
   ]
  },
  {
   "cell_type": "code",
   "execution_count": 8,
   "id": "349d7034",
   "metadata": {},
   "outputs": [
    {
     "name": "stdout",
     "output_type": "stream",
     "text": [
      "Top 5 aglomerados con más hogares con 2 o más personas con estudios:\n",
      "1. Aglomerado 32: 35.37%\n",
      "2. Aglomerado 23: 27.34%\n",
      "3. Aglomerado 29: 26.13%\n",
      "4. Aglomerado 12: 25.64%\n",
      "5. Aglomerado 3: 24.65%\n"
     ]
    }
   ],
   "source": [
    "#Sector B - Inciso 4\n",
    "from pathlib import Path\n",
    "sys.path.append(os.path.abspath(\"../src\"))\n",
    "from functions_B4 import ranking\n",
    "path_dataset = Path(\"..\") / \"dataset_individuos.txt\"\n",
    "with open (path_dataset, \"r\", encoding='utf-8') as f:\n",
    "        reader = csv.reader(f, delimiter=\";\")\n",
    "        next(reader) \n",
    "        rows = list(reader)    # Convertir el resto en una lista\n",
    "        ranking_aglo = ranking(rows)        \n",
    "        # Mostrar los 5 primeros\n",
    "        print(\"Top 5 aglomerados con más hogares con 2 o más personas con estudios:\")\n",
    "        for i, (aglo, pct) in enumerate(ranking_aglo[:5], 1):\n",
    "                print(f\"{i}. Aglomerado {aglo}: {pct:.2f}%\")"
   ]
  }
 ],
 "metadata": {
  "kernelspec": {
   "display_name": "venv",
   "language": "python",
   "name": "python3"
  },
  "language_info": {
   "codemirror_mode": {
    "name": "ipython",
    "version": 3
   },
   "file_extension": ".py",
   "mimetype": "text/x-python",
   "name": "python",
   "nbconvert_exporter": "python",
   "pygments_lexer": "ipython3",
   "version": "3.12.9"
  }
 },
 "nbformat": 4,
 "nbformat_minor": 5
}
